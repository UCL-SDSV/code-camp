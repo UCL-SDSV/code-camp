{
 "cells": [
  {
   "cell_type": "markdown",
   "metadata": {
    "geopyter": {
     "Contributors": "Jon Reades (https://github.com/jreades)",
     "git": {
      "active_branch": "master",
      "author.name": "Jon Reades",
      "authored_date": "2017-06-05 16:12:59",
      "committed_date": "2017-06-05 16:12:59",
      "committer.name": "Jon Reades",
      "sha": "2fce1fab4c3c28acabee493a24302e5ee1e8a1eb"
     }
    }
   },
   "source": [
    "# Notebook-1: Getting Started"
   ]
  },
  {
   "cell_type": "markdown",
   "metadata": {
    "geopyter": {
     "Contributors": [
      "Michele Ferretti (https://github.com/miccferr)",
      "Jon Reades (https://github.com/jreades)",
      "James Millington (https://github.com/jamesdamillington)",
      "Michele Ferretti (https://github.com/miccferr)",
      "Jon Reades (https://github.com/jreades)",
      "James Millington (https://github.com/jamesdamillington)"
     ],
     "git": {
      "active_branch": "master",
      "author.name": "Jon Reades",
      "authored_date": "2017-06-05 16:12:59",
      "committed_date": "2017-06-05 16:12:59",
      "committer.name": "Jon Reades",
      "sha": "2fce1fab4c3c28acabee493a24302e5ee1e8a1eb"
     }
    }
   },
   "source": [
    "## This is a Jupyter Notebook\n",
    "\n",
    "There's no reason you'd know this yet, but the web page you're looking at is also known as a 'Jupyter notebook' -- it's why you can 'run' code as part of the web page. Check out this example by clicking in the box (next to the <span style=\"color:blue;font-family:monospace\">In [ ]</span>) and hitting the 'run' button in the toolbar above or typing Ctrl+Return at the same time."
   ]
  },
  {
   "cell_type": "code",
   "execution_count": 1,
   "metadata": {
    "geopyter": {
     "Contributors": [
      "Michele Ferretti (https://github.com/miccferr)",
      "Jon Reades (https://github.com/jreades)",
      "James Millington (https://github.com/jamesdamillington)",
      "Michele Ferretti (https://github.com/miccferr)",
      "Jon Reades (https://github.com/jreades)",
      "James Millington (https://github.com/jamesdamillington)"
     ],
     "git": {
      "active_branch": "master",
      "author.name": "Jon Reades",
      "authored_date": "2017-06-05 16:12:59",
      "committed_date": "2017-06-05 16:12:59",
      "committer.name": "Jon Reades",
      "sha": "2fce1fab4c3c28acabee493a24302e5ee1e8a1eb"
     }
    }
   },
   "outputs": [
    {
     "name": "stdout",
     "output_type": "stream",
     "text": [
      "Hello world\n"
     ]
    }
   ],
   "source": [
    "print('Hello world')"
   ]
  },
  {
   "cell_type": "markdown",
   "metadata": {},
   "source": [
    "If all has gone well you should have seen `Hello world` appear on a line all on its own. That was Python code running in a notebook. Here's some more code:"
   ]
  },
  {
   "cell_type": "code",
   "execution_count": 3,
   "metadata": {},
   "outputs": [
    {
     "name": "stdout",
     "output_type": "stream",
     "text": [
      "2.5\n"
     ]
    }
   ],
   "source": [
    "print( (1+2+3+4)/4 )"
   ]
  },
  {
   "cell_type": "markdown",
   "metadata": {},
   "source": [
    "You can check that this gave you the right answer at the bottom of this page. \n",
    "\n",
    "Anyway, because of their history, some people will call these \"iPython notebooks\", others will call them \"Jupyter notebooks\", and some will just stick with \"notebooks\". They are all the same thing. \n",
    "\n",
    "Here's some more code to run as proof that this is actual code:"
   ]
  },
  {
   "cell_type": "code",
   "execution_count": 4,
   "metadata": {
    "scrolled": true
   },
   "outputs": [
    {
     "name": "stdout",
     "output_type": "stream",
     "text": [
      "3.7.10 | packaged by conda-forge | (default, Feb 19 2021, 16:07:37) \n",
      "[GCC 9.3.0]\n"
     ]
    }
   ],
   "source": [
    "import sys\n",
    "print(sys.version)"
   ]
  },
  {
   "cell_type": "markdown",
   "metadata": {
    "geopyter": {
     "Contributors": [
      "Michele Ferretti (https://github.com/miccferr)",
      "Jon Reades (https://github.com/jreades)",
      "James Millington (https://github.com/jamesdamillington)",
      "Michele Ferretti (https://github.com/miccferr)",
      "Jon Reades (https://github.com/jreades)",
      "James Millington (https://github.com/jamesdamillington)"
     ],
     "git": {
      "active_branch": "master",
      "author.name": "Jon Reades",
      "authored_date": "2017-06-05 16:12:59",
      "committed_date": "2017-06-05 16:12:59",
      "committer.name": "Jon Reades",
      "sha": "2fce1fab4c3c28acabee493a24302e5ee1e8a1eb"
     }
    }
   },
   "source": [
    "You don't need to understand all of that output, the point is that this is Python and we can do anything in a notebook that we would in a program.\n",
    "\n",
    "Rather than throw you in at the deep end with examples taken from computer science classes, for Code Camp we've tried to give you _geographical_ examples whenever possible in the hopes that the early examples will seem a _little_ less abstract and a _little_ more relevant to _your_ needs. Of course, the early examples are also very basic so the payoff might not be obvious right away, but trust us: if you stick with it you will start to change your thinking about geography as a discipline and about the power of computers to transform _everything_.\n",
    "\n",
    "So, before we do any more coding, let's think about why might want to use this technology in geography."
   ]
  },
  {
   "cell_type": "markdown",
   "metadata": {
    "geopyter": {
     "Contributors": "Jon Reades (https://github.com/jreades)",
     "git": {
      "active_branch": "master",
      "author.name": "Jon Reades",
      "authored_date": "2017-06-05 16:12:59",
      "committed_date": "2017-06-05 16:12:59",
      "committer.name": "Jon Reades",
      "sha": "2fce1fab4c3c28acabee493a24302e5ee1e8a1eb"
     }
    }
   },
   "source": [
    "# Programming and Geography \n"
   ]
  },
  {
   "cell_type": "markdown",
   "metadata": {
    "geopyter": {
     "Contributors": "Jon Reades (https://github.com/jreades)",
     "git": {
      "active_branch": "master",
      "author.name": "Jon Reades",
      "authored_date": "2017-06-05 16:12:59",
      "committed_date": "2017-06-05 16:12:59",
      "committer.name": "Jon Reades",
      "sha": "2fce1fab4c3c28acabee493a24302e5ee1e8a1eb"
     }
    }
   },
   "source": [
    "## The Fall and Rise of Geocomputation\n",
    "\n",
    "We live in a world transformed by big (geo)data: from Facebook likes and satellites, to travel cards and drones, the process of collecting and analysing data about the world around us is becoming very, very cheap. Twenty years ago, gathering data about the human and physical environment was expensive, but now a lot of it is generated as the ‘exhaust’ of day-to-day activity: tapping on to the bus or train, taking photos (whether from a satellite, drone, or disposable camera), making phone calls, using our credit cards, and surfing the web. And that's before you start looking at the Terabytes of data being generated by satellites, air quality and river flow sensors, and other Earth Observation Systems! \n",
    "\n",
    "As the costs of capturing, curating, and processing these data sets falls, the discipline of geography is changing. You face a world in which many of the defining career options for geographers with basic quantitative skills will either no longer exist, or will have been seriously de-skilled. So much can now be done through a web browser (e.g. [CartoDB](https://carto.com)) that specifying ‘Knowledge of ArcGIS’ is becoming superfluous; not because geo-analysis jobs are no longer in demand or no longer done -- in fact, they are more vital than ever -- but because the market for these skills has split in two: expensive, specialist software is being superseded by simple, non-specialist web-based tools on the ‘basic’ side, and by customised code on the 'advanced' side.\n",
    "\n",
    "It is for these reasons that terms like 'geocomputation', 'computational geography' and 'geographic data science' are back in vogue. After a period in which GIS was front-and-centre for many geographers with an interest in spatial data (as well for many geographers who objected to the shortcomings of quantitative approaches), the availability of data and advanced computational techniques (including Machine Learning), together with the 'discovery' by other disciplines of the role of geography in 'big data' processes, has created a need for a 'new' (or old, depending on your view) type of geographer able to reason much more directly _through_ code while remaining rooted in the critical geographic tradition that is aware of the short-comings (and opportunities) of data.\n",
    "\n",
    "\n",
    "我们生活在一个由大（地理）数据转变的世界：从 Facebook 点赞和卫星，到旅行卡和无人机，收集和分析我们周围世界数据的过程变得非常非常便宜。二十年前，收集有关人类和物理环境的数据是昂贵的，但现在很多都是作为日常活动的“消耗”产生的：搭上公共汽车或火车，拍照（无论是从卫星、无人机或一次性相机）、打电话、使用我们的信用卡和上网。那是在您开始查看由卫星、空气质量和河流流量传感器以及其他地球观测系统生成的 TB 级数据之前！\n",
    "\n",
    "随着捕获、管理和处理这些数据集的成本下降，地理学科正在发生变化.您将面临这样一个世界，在这个世界中，具有基本定量技能的地理学家的许多定义性职业选择要么不再存在，要么将被严重削弱。现在可以通过 Web 浏览器（例如 CartoDB）完成很多工作，因此指定“ArcGIS 知识”变得多余；不是因为不再需要或不再做地理分析工作——事实上，它们比以往任何时候都更重要——而是因为这些技能的市场已经一分为二：昂贵的专业软件正在被简单的、 “基础”方面的非专业网络工具，“高级”方面的定制代码。\n",
    "\n",
    "正是由于这些原因，“地理计算”、“计算地理学”和“地理数据科学”等术语重新出现时尚。在 GIS 成为许多对空间数据感兴趣的地理学家（以及许多反对定量方法缺点的地理学家）的前沿和中心之后，数据的可用性和先进的计算技术（包括机器学习） ，连同其他学科“发现”地理学在“大数据”过程中的作用，催生了对“新”（或旧，取决于您的观点）类型的地理学家的需求，他们能够通过更直接的方式进行推理代码，同时仍植根于重要的地理传统，即了解数据的缺点（和机会）。"
   ]
  },
  {
   "cell_type": "markdown",
   "metadata": {
    "geopyter": {
     "Contributors": "Jon Reades (https://github.com/jreades)",
     "git": {
      "active_branch": "master",
      "author.name": "Jon Reades",
      "authored_date": "2017-06-05 16:12:59",
      "committed_date": "2017-06-05 16:12:59",
      "committer.name": "Jon Reades",
      "sha": "2fce1fab4c3c28acabee493a24302e5ee1e8a1eb"
     }
    }
   },
   "source": [
    "## What is Geocomputation?\n",
    "\n",
    "Computational approaches -- which is to say, approaches to geography using computers executing commands written in programming code -- differ in important ways from the quantitative skills taught in traditional geography ‘methods’ classes: computational geography is underpinned by algorithms that employ concepts such as *iteration* and *recursion*, and we use these to tackle everything from a data processing problem to an entire research question. \n",
    "\n",
    "计算方法——也就是说，使用计算机执行以编程代码编写的命令来研究地理学的方法——与传统地理学“方法”课程中教授的定量技能在重要方面有所不同：计算地理学以算法为基础，这些算法采用诸如*迭代*和*递归*，我们使用它们来解决从数据处理问题到整个研究问题的所有问题。\n",
    "<img src=\"https://archive.data.cdrc.ac.uk/uploads/group/2015-08-13-085820.634829productdefault.png\" alt=\"Open Atlas Logo\" width=\"350px\"/>\n",
    "\n",
    "For example, Alex Singleton’s OpenAtlas (available for free from the [Consumer Data Research Centre](https://data.cdrc.ac.uk/product/cdrc-2011-census-open-atlas)) contains 134,567 maps. Alex designed and wrote a script to _iterate_ over the Census areas (i.e. to ‘visit’ each area in turn when creating a map), and to _recurse_ into smaller sub-regions from larger regions (i.e. to keep drilling down into smaller and smaller geographies) in order to generate maps at, literally, every conceivable scale. Then he let the computer do the ‘boring bit’ of actually creating each and every map.\n",
    "\n",
    "*iteration迭代* \n",
    "*recurse递归*\n",
    "\n",
    "例如，Alex Singleton 的 OpenAtlas（可从 [消费者数据研究中心](https://data.cdrc.ac.uk/product/cdrc-2011-census-open-atlas) 免费获得）包含 134,567 张地图。 Alex 设计并编写了一个脚本来_迭代_人口普查区域（即在创建地图时依次“访问”每个区域），并从较大的区域_递归_到较小的子区域（即不断深入到越来越小的地理区域） ) 以生成每个可以想象的比例的地图。然后他让计算机做实际创建每张地图的“无聊部分”。"
   ]
  },
  {
   "cell_type": "markdown",
   "metadata": {
    "geopyter": {
     "Contributors": "Jon Reades (https://github.com/jreades)",
     "git": {
      "active_branch": "master",
      "author.name": "Jon Reades",
      "authored_date": "2017-06-05 16:12:59",
      "committed_date": "2017-06-05 16:12:59",
      "committer.name": "Jon Reades",
      "sha": "2fce1fab4c3c28acabee493a24302e5ee1e8a1eb"
     }
    }
   },
   "source": [
    "### Thinking Algorithmically\n",
    "\n",
    "Thinking _algorithmically_ requires students and professionals to deal with abstraction: we don’t want to define how each analysis should work – or how each map should look – rather, we want to specify a set of rules about how to select and display data on a map, and then let the computer make them all for us. In this way of working it’s not really any more work to create 500 or 5,000 maps than it is to create 5 because we’ve already told the computer how to make useful maps. \n",
    "\n",
    "算法思维需要学生和专业人士处理抽象：我们不想定义每个分析应该如何工作 - 或者每个地图应该如何看起来 - 相反，我们想要指定一组关于如何选择和显示数据的规则地图，然后让计算机为我们制作它们。在这种工作方式中，创建 500 或 5,000 张地图并不比创建 5 张地图的工作量多，因为我们已经告诉计算机如何制作有用的地图。\n",
    "Here's another way to think about it:\n",
    "\n",
    "> _An algorithm is like a recipe. It takes \"inputs\" (the ingredients), performs a set of simple and (hopefully) well-defined steps, and then terminates after producing an \"output\" (the meal)._\n",
    "\n",
    "This article also goes on to make some interesting points about AI and deep learning that are [well worth a read](https://medium.com/@geomblog/when-an-algorithm-isn-t-2b9fe01b9bb5), but for our purposes, the bit about a *recipe* is the important bit: how would you break your problem down into steps *like the ones you'd see for a recipe*?\n",
    "\n",
    "本文还继续提出了一些关于 AI 和深度学习的有趣观点，这些观点 [非常值得一读](https://medium.com/@geomblog/when-an-algorithm-isn-t-2b9fe01b9bb5)，但对于我们的目的，关于*食谱*的一点是重要的一点：你如何将你的问题分解成步骤*就像你在食谱中看到的那样*？\n",
    "\n",
    "Learning to think this way is *hard work*: the *first* time I try a new recipe I really don't know how things are going to taste. Similarly, the first time I use an algorithm to make a map or solve a problem I usually don't actually know exactly how my maps are going to look until _after_ I've made them. The difference from the 'normal', non-computational way of working is that I make a few changes to my code and then just run it again. And again... as many times as I need to in order to get what I want. I can keep changing the recipe until I get it just right.\n",
    "\n",
    "学会这样思考是*艰苦的工作*：*第一次*我尝试新食谱时，我真的不知道味道会如何。同样，当我第一次使用算法制作地图或解决问题时，我通常实际上并不确切知道我的地图会是什么样子，直到_之后_我已经制作了它们。与“正常”、非计算工作方式的不同之处在于，我对代码进行了一些更改，然后再次运行它。再一次......为了得到我想要的东西，我需要多次。我可以不断地改变食谱，直到我得到它恰到好处。"
   ]
  },
  {
   "cell_type": "markdown",
   "metadata": {
    "geopyter": {
     "Contributors": "Jon Reades (https://github.com/jreades)",
     "git": {
      "active_branch": "master",
      "author.name": "Jon Reades",
      "authored_date": "2017-06-05 16:12:59",
      "committed_date": "2017-06-05 16:12:59",
      "committer.name": "Jon Reades",
      "sha": "2fce1fab4c3c28acabee493a24302e5ee1e8a1eb"
     }
    }
   },
   "source": [
    "### Thinking Like a Programmer\n",
    "\n",
    "However, trying the same recipe again and again and again _also_ sounds like hard work! Wouldn't it be faster to just click and choose what you want the computer to do in SPSS or ArcMap? Well, yes and no. The two advantages to doing this with code over pointing-and-clicking are: 1) your solution is _transferrable_; and 2) thinking 'like a programmer' is also about problem-solving, and that _also_ transfers very nicely to the 'real world' of employment.\n",
    "\n",
    "然而，一次又一次地尝试同样的食谱_也_听起来很辛苦！在 SPSS 或 ArcMap 中单击并选择您希望计算机执行的操作不是更快吗？嗯，是和不是。使用代码执行此操作而不是点击的两个优点是：1) 您的解决方案是 _可转移的_； 2）“像程序员一样”思考也是关于解决问题的，而且_也_可以很好地转移到就业的“现实世界”。\n",
    "\n",
    "我们为什么这么说：\n",
    "\n",
    "Why do we say this:\n",
    "\n",
    "1. Programming solutions are transferrable because you aren't just solving _one_ problem, you are solving _classes_ of problems. In the same way that many recipes build on the same basic ingredients (sometimes adding something new for added 'spice'), many applications use the same basic ingredients: it's how they're put together in new ways that lead to new outputs. It's a lot like Lego.\n",
    "\n",
    "1. 编程解决方案是可转移的，因为您不仅要解决_一个_问题，还要解决_类_的问题。就像许多食谱建立在相同的基本成分上一样（有时会添加一些新的东西来增加“香料”），许多应用程序使用相同的基本成分：它们如何以新的方式组合在一起，从而产生新的输出。它很像乐高。\n",
    "\n",
    "2. Thinking like a programmer also translates well because you are learning to deal with abstraction. Yes, the details of a problem matter (just as ignoring cultural differences between two countries can matter), but it's important to be able to break a really big, messy, complex problem down into smaller, tidier, more comprehensible bits that you _can_ tackle. Programmers deal with this every day, so they tend to develop important skills in understanding and dealing with practical challenges of the sort that you'll face every day in your career.\n",
    "\n",
    "2. 像程序员一样思考也可以很好地转化，因为您正在学习处理抽象。是的，问题的细节很重要（就像忽略两个国家之间的文化差异很重要一样），但重要的是能够将一个非常大、凌乱、复杂的问题分解成您_可以_解决的更小、更整洁、更易于理解的部分.程序员每天都在处理这个问题，因此他们倾向于培养重要的技能来理解和处理你在职业生涯中每天都会面临的那种实际挑战。\n",
    "\n",
    "Here's another [useful bit of insight](https://medium.freecodecamp.org/how-to-think-like-a-programmer-lessons-in-problem-solving-d1d8bf1de7d2?source=userActivityShare-65ab89778550-1526122060&gi=f9005e8aacb5):\n",
    "\n",
    "> The best way \\[of solving problems\\] involves a) having a framework and b) practising it.\n",
    "> \n",
    "> Problem-solving skills are almost unanimously the most important qualification that employers look for... more than programming languages proficiency, debugging, and system design...\n",
    ">\n",
    "> — Hacker Rank (2018 Developer Skills Report)\n",
    "\n",
    "> \\[解决问题\\] 的最佳方法包括 a) 拥有一个框架和 b) 实践它。\n",
    ">\n",
    "> 解决问题的能力几乎一致是雇主寻找的最重要的资格……不仅仅是编程语言的熟练程度、调试和系统设计……\n",
    ">\n",
    "> — 黑客排名（2018 年开发者技能报告）\n",
    "\n",
    "You really should [read the article](https://medium.freecodecamp.org/how-to-think-like-a-programmer-lessons-in-problem-solving-d1d8bf1de7d2) (it's not very long) but here are the key points:\n",
    "\n",
    "1. Understand the problem -- most problems are hard because you don't understand them _and_ you will only know that you've understood it when you can explain it in plain-English.\n",
    "2. Plan -- if you just dive in without thinking about what you need your code to take in and spit out then you're going to waste a _lot_ of time.\n",
    "3. Divide -- break a hard problem down into simple, small steps and tackle them in small, simple blocks of code. _Never_ try to just sit down and 'code'.\n",
    "4. Debug with a fresh eye -- if you really feel stuck, step away from the computer for 5 minutes, take a deep breath, and try to look at the problem with a fresh set of eyes rather than just diving back in. Most problems boil down to either not seeing the big picture, or not realising that the computer is doing _exactly what you told it to do_, and _not what you meant for it to do_.\n",
    "5. Practice -- find ways to practice problem-solving and coding (not necessarily at the same time).\n",
    "\n",
    "1. 理解问题——大多数问题都很难，因为你不理解它们_而且_只有当你能用简单的英语解释它时，你才会知道你已经理解了它。\n",
    "2. 计划——如果你只是潜入而不考虑你需要你的代码接受和吐出什么，那么你将浪费_很多_时间。\n",
    "3. 划分——把一个困难的问题分解成简单的小步骤，并用小的、简单的代码块来解决它们。 _永远_ 试着坐下来“编码”。\n",
    "4. 用全新的眼光调试——如果你真的觉得卡住了，离开电脑 5 分钟，深呼吸，试着用全新的眼光看待问题，而不是一头扎进去。 大多数问题归结为要么没有看到大局，要么没有意识到计算机正在做_完全按照你的要求做_，以及_不是你想让它做的_。\n",
    "5. 练习——想办法练习解决问题和编码（不一定同时进行）。\n",
    "\n",
    "If you don't take our word for it, how about taking Richard Feynman's word on it?\n",
    "\n",
    "> If you can’t explain something in simple terms, you don’t understand it.\n",
    "\n",
    "<img src=\"https://kottke.org/plus/misc/images/feynman-blackboard.jpg\" width=\"400\" />"
   ]
  },
  {
   "cell_type": "markdown",
   "metadata": {
    "geopyter": {
     "Contributors": "Jon Reades (https://github.com/jreades)",
     "git": {
      "active_branch": "master",
      "author.name": "Jon Reades",
      "authored_date": "2017-06-05 16:12:59",
      "committed_date": "2017-06-05 16:12:59",
      "committer.name": "Jon Reades",
      "sha": "2fce1fab4c3c28acabee493a24302e5ee1e8a1eb"
     }
    }
   },
   "source": [
    "### The Open Source Ethos\n",
    "\n",
    "Once I've got a solution to my current problem, I can take that code and apply it to a new problem. Or a new case study. _Or_, I can [post it online](https://github.com/kingsgeocomp) and let others build off of my work to tackle problems that I've not even considered! Giving away my code might seem like a bad idea, but think about this: in a world of exciting research questions, are you going to be able to tackle every single one? Your own work _already_ builds off of code that other people gave away (the Mac OS, Linux, QGIS, Python, etc.)... perhaps you should give something back to the community? Not _just_ because it's a nice thing to do, but because people will find out about you through your code. And those people might be in a position to offer you a job, or they might approach you as a collaborator, or they might point someone else with an interesting opportunity in your direction because you have built a reputation as a 'contributor'.\n",
    "\n",
    "一旦我找到了当前问题的解决方案，我就可以使用该代码并将其应用于新问题。或者一个新的案例研究。 _或者_，我可以[在线发布](https://github.com/kingsgeocomp) 并让其他人利用我的工作来解决我什至没有考虑过的问题！放弃我的代码似乎是个坏主意，但请想一想：在一个令人兴奋的研究问题的世界中，您是否能够解决每一个问题？你自己的作品_已经_基于其他人赠送的代码（Mac OS、Linux、QGIS、Python等）……也许你应该回馈社区？不是_只是_因为这是一件好事，而是因为人们会通过您的代码了解您。这些人可能会为您提供一份工作，或者他们可能会以合作者的身份接近您，或者他们可能会向其他人指出一个有趣的机会，因为您已经建立了“贡献者”的声誉。"
   ]
  },
  {
   "cell_type": "markdown",
   "metadata": {
    "geopyter": {
     "Contributors": "Jon Reades (https://github.com/jreades)",
     "git": {
      "active_branch": "master",
      "author.name": "Jon Reades",
      "authored_date": "2017-06-05 16:12:59",
      "committed_date": "2017-06-05 16:12:59",
      "committer.name": "Jon Reades",
      "sha": "2fce1fab4c3c28acabee493a24302e5ee1e8a1eb"
     }
    }
   },
   "source": [
    "### Further Reading \n",
    "\n",
    "A big gap is opening up between the stuff that can be done by pushing buttons (which no longer even really requires geographical training) and the 'cutting edge'. There are many pieces that argue this case, but here are a few to start with:\n",
    "\n",
    "* [Why the Future of Geography is Cheap](https://www.rgs.org/schools/teaching-resources/why-the-future-of-geography-is-cheap/)\n",
    "* [GIS Jobs of Today](http://www.directionsmag.com/entry/gis-jobs-of-today-should-you-have-programming-skills/473296): should you have programming skills?"
   ]
  },
  {
   "cell_type": "markdown",
   "metadata": {
    "geopyter": {
     "Contributors": [
      "Michele Ferretti (https://github.com/miccferr)",
      "Jon Reades (https://github.com/jreades)",
      "James Millington (https://github.com/jamesdamillington)",
      "Michele Ferretti (https://github.com/miccferr)",
      "Jon Reades (https://github.com/jreades)",
      "James Millington (https://github.com/jamesdamillington)"
     ],
     "git": {
      "active_branch": "master",
      "author.name": "Jon Reades",
      "authored_date": "2017-06-05 16:12:59",
      "committed_date": "2017-06-05 16:12:59",
      "committer.name": "Jon Reades",
      "sha": "2fce1fab4c3c28acabee493a24302e5ee1e8a1eb"
     }
    }
   },
   "source": [
    "# Why Learn to Code?\n",
    "\n"
   ]
  },
  {
   "cell_type": "markdown",
   "metadata": {
    "geopyter": {
     "Contributors": [
      "Michele Ferretti (https://github.com/miccferr)",
      "Jon Reades (https://github.com/jreades)",
      "James Millington (https://github.com/jamesdamillington)",
      "Michele Ferretti (https://github.com/miccferr)",
      "Jon Reades (https://github.com/jreades)",
      "James Millington (https://github.com/jamesdamillington)"
     ],
     "git": {
      "active_branch": "master",
      "author.name": "Jon Reades",
      "authored_date": "2017-06-05 16:12:59",
      "committed_date": "2017-06-05 16:12:59",
      "committer.name": "Jon Reades",
      "sha": "2fce1fab4c3c28acabee493a24302e5ee1e8a1eb"
     }
    }
   },
   "source": [
    "## Why _you_ should learn to program\n",
    "\n",
    "There are many good reasons for geographers to learn to code, but let's start with some good _general_ reasons why _you_ should learn to program a computer even if you never use it to make a map or complete a bit of spatial analysis.\n",
    "\n",
    "> You should learn how to program a computer because it teaches you how to think.\n",
    "\n",
    "[![Why You Should Learn How to Code](http://img.youtube.com/vi/Dv7gLpW91DM/0.jpg)](https://youtu.be/Dv7gLpW91DM)\n",
    "\n",
    "And here is a useful perspective on whether or not learning to code is hard:\n",
    "\n",
    "> If you don't have a reason for learning to code outside of trying making lots of money that's not a very long term passion... but when you have an idea or a problem that you're passionate about solving then that's why we keep on going... but do you need to have an understanding of complex math or logic skills, the answer is no.\n",
    "\n",
    "[![Is Learning to Code Hard](http://img.youtube.com/vi/k7Txbdvzx90/0.jpg)](https://youtu.be/k7Txbdvzx90)\n",
    "\n",
    "So while 'making money' is (often) a nice outcome of learning to code, having a passion for what you want to _do_ with your code is what's going to get you through the worst parts of the learning curve. You also need to be realistic: to become a professional programmer is something that happens over many years, you probably won't just take a couple of classes and then go out into the world saying \"I'm a programmer.\"\n",
    "\n",
    "And, no, you do _not_ need to know advanced maths in order to learn how to code: you need to be able to think logically and to reframe your problems in ways that align _with_ the computer."
   ]
  },
  {
   "cell_type": "markdown",
   "metadata": {
    "geopyter": {
     "Contributors": [
      "Michele Ferretti (https://github.com/miccferr)",
      "Jon Reades (https://github.com/jreades)",
      "James Millington (https://github.com/jamesdamillington)",
      "Michele Ferretti (https://github.com/miccferr)",
      "Jon Reades (https://github.com/jreades)",
      "James Millington (https://github.com/jamesdamillington)"
     ],
     "git": {
      "active_branch": "master",
      "author.name": "Jon Reades",
      "authored_date": "2017-06-05 16:12:59",
      "committed_date": "2017-06-05 16:12:59",
      "committer.name": "Jon Reades",
      "sha": "2fce1fab4c3c28acabee493a24302e5ee1e8a1eb"
     }
    }
   },
   "source": [
    "## The Benefits of Coding?\n",
    "\n",
    "In a practical context we think that the benefits of learning to code fall into three categories:\n",
    "1. **Flexibility**: a computer can often apply the _same_ analytical process to a completely different data set (_e.g._ rainfall in UK vs rainfall in the US) with minimal effort compared to trying to do each step manually in, say, Excel or SPSS. For students, it comes down to this: if you discover a newer, better data set halfway through your dissertation and want to use this for your analysis instead of the old, inaccurate data, it's a lot easier and faster to update your analyses if you have used code to do the analysis to-date!\n",
    "2. **Reproducibility**: recently, it's been discovered that a lot of research cannot be reproduced. In other words, if one scientist tries to duplicate what someone else did in order to check something out (as is important in the scientific method) they're finding that the results don't line up. So a second example of why coding your data analysis for a dissertation: you've just finished your analysis when someone points out that you made a mistake with the data right back at the beginning; redoing all of that in Excel or SPSS would be a nightmare, but with code, it can be as easy as changing one line and hitting 'Run'!\n",
    "3. **Scalability**: a computer doesn't care if you throw 10 lines or 10 billion lines at it, the only thing that changes is how long it takes to get an answer. In other words, if your code 'works' on a subset of your data it should also work on your entire data set no matter how big it is. This is also a good way to develop code: rather than try to read in the whole data set in one go while you're still trying to understand it, take a few rows and make sure you're handling _those_ ones correctly (and if what you see squares with what you were told) before expanding to larger and larger subsets.\n",
    "\n",
    "Often, the payoff for coding the answer to a problem instead of just clicking through the options in SPSS or Arc can seem a long way away. It's like learning a new language: you spend a lot of time asking directions to the train station or whether someone had a nice breakfast before you can start work on the novel or the business case. But the payoff _is_ there if you stick with it!\n",
    "\n",
    "在实际环境中，我们认为学习编码的好处分为三类：\n",
    "\n",
    "1．灵活性：与尝试在 Excel 或 SPSS 中手动执行每个步骤相比，计算机通常可以将相同的分析过程应用于完全不同的数据集（例如，英国的降雨量与美国的降雨量）。对于学生来说，归结为：如果您在论文中途发现更新、更好的数据集，并希望将其用于分析而不是旧的、不准确的数据，那么更新您的分析会更容易、更快到目前为止，已经使用代码进行分析！\n",
    "\n",
    "2。再现性：最近发现很多研究无法再现。换句话说，如果一位科学家试图复制其他人所做的以检查某些东西（这在科学方法中很重要），他们会发现结果不一致。那么，为什么要为论文编写数据分析的第二个例子是：当有人指出你在开始时对数据犯了错误时，你刚刚完成了分析；在 Excel 或 SPSS 中重做所有这些将是一场噩梦，但使用代码，它可以像更改一行并点击“运行”一样简单！\n",
    "\n",
    "3。可扩展性：计算机不在乎你是扔 10 行还是 100 亿行，唯一改变的是得到答案需要多长时间。换句话说，如果您的代码“适用于”数据的一个子集，那么它也应该适用于您的整个数据集，无论它有多大。这也是开发代码的一种好方法：与其尝试在试图理解整个数据集时一次性读入它，不如取出几行并确保正确处理这些数据（如果在扩展到越来越大的子集之前，你所看到的与你被告知的平方）。通常，对问题的答案进行编码而不是仅仅点击 SPSS 或 Arc 中的选项的回报似乎还有很长的路要走。这就像学习一门新语言：在您开始撰写小说或商业案例之前，您会花费大量时间询问去往火车站的路线，或者是否有人享用了美味的早餐。但只要坚持，就会有回报！"
   ]
  },
  {
   "cell_type": "markdown",
   "metadata": {
    "geopyter": {
     "Contributors": [
      "Michele Ferretti (https://github.com/miccferr)",
      "Jon Reades (https://github.com/jreades)",
      "James Millington (https://github.com/jamesdamillington)",
      "Michele Ferretti (https://github.com/miccferr)",
      "Jon Reades (https://github.com/jreades)",
      "James Millington (https://github.com/jamesdamillington)"
     ],
     "git": {
      "active_branch": "master",
      "author.name": "Jon Reades",
      "authored_date": "2017-06-05 16:12:59",
      "committed_date": "2017-06-05 16:12:59",
      "committer.name": "Jon Reades",
      "sha": "2fce1fab4c3c28acabee493a24302e5ee1e8a1eb"
     }
    }
   },
   "source": [
    "## The 3 virtues of a programmer\n",
    "\n",
    "Another useful idea comes from [Larry Wall](https://en.wikipedia.org/wiki/Larry_Wall) (the man with the strong 'tache game below!), who created a programming language called Perl. Larry said that programmers had three virtues: **Laziness, Hubris, and Impatience**. \n",
    "\n",
    "<img src=\"http://cdn.quotationof.com/images/larry-wall-1.jpg\" width=\"250\">\n",
    "\n",
    "Some of the reasons that these are virtues in programming (but not in your studies!) are as follows:\n",
    "\n",
    "1. **Laziness** makes you want to put in the effort _now_ to reduce the amount of effort you'll have to put in _later_. It might be a lot of work to produce a map of _one_ US State automatically using code, but once you've worked out how to do it for one state, then you've also figured out how to do it for _all 50_! That is useful laziness.\n",
    "2. **Hubris** makes you want to write code that other people won't want to \"say bad things about\". Over time you'll come to understand more intuitively what makes 'good' code in more detail (and we cover it a bit in the last notebook), but the short version is: it's efficient, it's easy to read, and it's clever.\n",
    "3. **Impatience** is about wanting the answer _now_ and looking for ways to get _there_ as quickly as possible. Being impatient doesn't mean just jumping into writing code, it means that you _first_ look too see whether and how other people have solved similar problems before starting work on your own code. Rather than reinventing the wheel, we try to stand on the shoulder of giants.\n",
    "\n",
    "**_Hint_**: you'll see a lot of laziness when you start trying to write code. Programmers don't like writing **`remove`** when they could just write **`rm`**, nor do they like writing **`define`** when they could just write **`def`**. Keep an eye out for these mnemonics as they can be pretty daunting at first.\n",
    "\n",
    "另一个有用的想法来自 [Larry Wall](https://en.wikipedia.org/wiki/Larry_Wall)（下面这个拥有强大 'tache 游戏的人！），他创建了一种名为 Perl 的编程语言。 Larry 说程序员有三个美德：**懒惰、狂妄和急躁**。\n",
    "\n",
    "<img src=\"http://cdn.quotationof.com/images/larry-wall-1.jpg\" width=\"250\">\n",
    "\n",
    "这些是编程中的优点（但不是你的学习！）的一些原因如下：\n",
    "\n",
    "1. **懒惰**让你想_现在_付出努力，以减少_稍后_必须付出的努力。使用代码自动生成 _one_ 美国州的地图可能需要大量工作，但是一旦您确定了如何为一个州执行此操作，那么您也已想出如何为 _all 50_ 执行此操作！这是有用的懒惰。\n",
    "2. **Hubris** 让您想编写其他人不想“说坏话”的代码。随着时间的推移，你会更直观地理解什么是“好”代码，更详细（我们在上一个笔记本中稍微介绍了一点），但简短的版本是：它高效、易于阅读，而且很聪明。\n",
    "3. **不耐烦**是关于_现在_想要答案并寻找尽快_那里_的方法。不耐烦并不意味着只是开始编写代码，这意味着你_首先_看看其他人是否以及如何在开始编写自己的代码之前解决了类似的问题。我们尝试站在巨人的肩膀上，而不是重新发明轮子。\n",
    "\n",
    "**_提示_**：当您开始尝试编写代码时，您会看到很多懒惰。程序员不喜欢写**`remove`**，他们只会写**`rm`**，也不喜欢写**`define`**，他们只会写**`def`** .请留意这些助记符，因为它们一开始可能会令人生畏。"
   ]
  },
  {
   "cell_type": "markdown",
   "metadata": {
    "geopyter": {
     "Contributors": [
      "Michele Ferretti (https://github.com/miccferr)",
      "Jon Reades (https://github.com/jreades)",
      "James Millington (https://github.com/jamesdamillington)",
      "Michele Ferretti (https://github.com/miccferr)",
      "Jon Reades (https://github.com/jreades)",
      "James Millington (https://github.com/jamesdamillington)"
     ],
     "git": {
      "active_branch": "master",
      "author.name": "Jon Reades",
      "authored_date": "2017-06-05 16:12:59",
      "committed_date": "2017-06-05 16:12:59",
      "committer.name": "Jon Reades",
      "sha": "2fce1fab4c3c28acabee493a24302e5ee1e8a1eb"
     }
    }
   },
   "source": [
    "### The 3 false virtues\n",
    "\n",
    "Larry also pointed out that these virtues had three mirror-image false virtues:\n",
    "\n",
    "1. **False laziness** happens when you leave something working but half-finished and, most likely, about to break. When you start using [StackOverflow](http://www.stackoverflow.com/) you may find that it makes it easy to copy+paste answers into your notebook and then you can glue it together messily. This isn't the same as _understanding_ and _adapting_ the solution that you found online to _your_ problem, so it's false laziness. To really develop a learning mindset, [don't copy+paste code, type it out](https://medium.freecodecamp.com/the-benefits-of-typing-instead-of-copying-54ed734ad849#.es5mw1j0z). \n",
    "2. **False hubris** is thinking that no one else's code is 'good enough' for you. Sometimes copy+paste is false laziness, but refusing to recognise when copy+paste (or importing a library, more on this later) _is_ the right thing to do is false hubris.\n",
    "3. **False impatience** is getting started on coding your answer to a problem when you don't yet understand what the problem actually _is_. One thing that a lot of programmers do is half-listen to what someone has asked them to do and then go haring off without sitting down to make any kind of plan. It's like writing an essay without having done the readings. Nudge, nudge.\n",
    "\n",
    "There's a lot more thinking on this here: http://blog.teamtreehouse.com/the-programmers-virtues\n",
    "\n",
    "拉里还指出，这些美德有三个镜像错误的美德：\n",
    "\n",
    "1. **虚假的懒惰**发生在你留下一些工作但未完成并且很可能即将崩溃的事情时。当您开始使用 [StackOverflow](http://www.stackoverflow.com/) 时，您可能会发现将答案复制+粘贴到您的笔记本中很容易，然后您可以将它们乱七八糟地粘在一起。这与_understanding_和_adapting_你在网上找到的_your_问题的解决方案不同，所以这是错误的懒惰。要真正培养学习心态，[不要复制+粘贴代码，输入](https://medium.freecodecamp.com/the-benefits-of-typing-instead-of-copying-54ed734ad849#.es5mw1j0z) .\n",
    "2. **虚假的傲慢** 认为没有人的代码对你来说“足够好”。有时复制+粘贴是错误的懒惰，但拒绝识别何时复制+粘贴（或导入库，稍后会详细介绍）_是_正确的做法是错误的傲慢。\n",
    "3. **虚假的不耐烦**是在您还不了解问题实际_是什么时开始编写您对问题的答案。许多程序员做的一件事是半听从别人要求他们做的事情，然后没有坐下来制定任何计划就匆匆忙忙地干活。这就像在没有阅读的情况下写一篇文章。轻推，轻推。\n",
    "\n",
    "这里有更多的想法：http://blog.teamtreehouse.com/the-programmers-virtues"
   ]
  },
  {
   "cell_type": "markdown",
   "metadata": {},
   "source": [
    "## On Accessible Code\n",
    "\n",
    "In the early days of computing, programs weren't even written in English (or any other human language), they were written in Assembly/Machine Code. One of the people who thought that was crazy was this rather impressive Rear Admiral:\n",
    "\n",
    "在计算的早期，程序甚至不是用英语（或任何其他人类语言）编写的，它们是用汇编/机器代码编写的。认为这很疯狂的人之一是这位令人印象深刻的海军少将：\n",
    "\n",
    "<img src=\"https://upload.wikimedia.org/wikipedia/commons/thumb/a/ad/Commodore_Grace_M._Hopper%2C_USN_%28covered%29.jpg/960px-Commodore_Grace_M._Hopper%2C_USN_%28covered%29.jpg\" width=\"300\" />\n",
    "\n",
    "[Grace Hopper](https://en.wikipedia.org/wiki/Grace_Hopper) felt that applications should be written in a way that more people could understand; this would be good for the military, but it would also be good for business and society in general. For her efforts, she is now known as the Mother of COBOL (the COmmon Business Oriented Language), a language that is still in (some) use today. \n",
    "\n",
    "[Grace Hopper](https://en.wikipedia.org/wiki/Grace_Hopper) 认为应用程序应该以更多人可以理解的方式编写；这对军队有好处，但对企业和整个社会也有好处。由于她的努力，她现在被称为 COBOL（面向商业的通用语言）之母，这种语言今天仍在（某些）使用。"
   ]
  },
  {
   "cell_type": "markdown",
   "metadata": {
    "geopyter": {
     "Contributors": [
      "Michele Ferretti (https://github.com/miccferr)",
      "Jon Reades (https://github.com/jreades)",
      "James Millington (https://github.com/jamesdamillington)",
      "Michele Ferretti (https://github.com/miccferr)",
      "Jon Reades (https://github.com/jreades)",
      "James Millington (https://github.com/jamesdamillington)"
     ],
     "git": {
      "active_branch": "master",
      "author.name": "Jon Reades",
      "authored_date": "2017-06-05 16:12:59",
      "committed_date": "2017-06-05 16:12:59",
      "committer.name": "Jon Reades",
      "sha": "2fce1fab4c3c28acabee493a24302e5ee1e8a1eb"
     }
    }
   },
   "source": [
    "## Being a 'good' programmer\n",
    "\n",
    "The best way to be a 'good' programmer is to know when the computer can help you and when it will just get in the way. A computer cannot 'solve' a problem for you, but it _can_ help you to find the answer when you've told it what to look for and what rules to use in that search. A computer can only do _exactly_ what you tell it to do, so if you don't know what to do then the computer won't either.\n",
    "\n",
    "One of the founders of computing, [Charles Babbage](https://en.wikiquote.org/wiki/Charles_Babbage#Passages_from_the_Life_of_a_Philosopher_.281864.29) had this to say:\n",
    "\n",
    "> On two occasions I have been asked, — \"Pray, Mr Babbage, if you put into the machine wrong figures, will the right answers come out?\" In one case a member of the Upper, and in the other a member of the Lower, House put this question. I am not able rightly to apprehend the kind of confusion of ideas that could provoke such a question.\n",
    "> _Passages from the Life of a Philosopher (1864), ch. 5 \"Difference Engine No. 1\"_\n",
    "\n",
    "Modern programmers call this: garbage in, garbage out. GIGO, for short.\n",
    "\n",
    "成为“优秀”程序员的最佳方式是了解计算机何时可以帮助您以及何时会妨碍您。计算机无法为您“解决”问题，但是当您告诉它要查找的内容以及在该搜索中使用的规则时，它_可以_帮助您找到答案。计算机只能_完全_做你告诉它做的事情，所以如果你不知道该做什么，那么计算机也不会。\n",
    "\n",
    "计算的创始人之一，[Charles Babbage](https://en.wikiquote.org/wiki/Charles_Babbage#Passages_from_the_Life_of_a_Philosopher_.281864.29) 有这样的说法：\n",
    "\n",
    "> 有两次我被问到：“祈祷吧，巴贝奇先生，如果你把错误的数字输入机器，正确的答案会出来吗？”在一个案例中，众议院提出了这个问题，而在另一个案例中，众议院提出了这个问题。我无法正确理解可能引发这样一个问题的那种思想混乱。\n",
    "> _Passages from the Life of a Philosopher (1864), ch。 5《差分引擎一号》_\n",
    "\n",
    "现代程序员称之为：垃圾进，垃圾出。 GIGO，简称。"
   ]
  },
  {
   "cell_type": "markdown",
   "metadata": {
    "geopyter": {
     "Contributors": [
      "Michele Ferretti (https://github.com/miccferr)",
      "Jon Reades (https://github.com/jreades)",
      "James Millington (https://github.com/jamesdamillington)",
      "Michele Ferretti (https://github.com/miccferr)",
      "Jon Reades (https://github.com/jreades)",
      "James Millington (https://github.com/jamesdamillington)"
     ],
     "git": {
      "active_branch": "master",
      "author.name": "Jon Reades",
      "authored_date": "2017-06-05 16:12:59",
      "committed_date": "2017-06-05 16:12:59",
      "committer.name": "Jon Reades",
      "sha": "2fce1fab4c3c28acabee493a24302e5ee1e8a1eb"
     }
    }
   },
   "source": [
    "# Learning a (New) Language\n",
    "\n",
    "**_The single most important thing that you can learn is how to frame your problem in a way that you can communicate to a computer._** Crucially, the real power of the computer isn't figuring out how to tell it to add `1, 2, 3, 4` together and calculate the mean (average), it's figuring out how to tell it to add _any possible set of numbers_ together and work out the mean. It's when you start to see ways to do this for sets of _hard_ problems (for you) that you know you've started to understand the language. \n",
    "\n",
    "So these notebooks are intended to help you start learning a new language -- a programming language -- but you should always remember this: you're not stupid if you don't know how to explain things to the computer so that it can help you find the answer. You're learning the basics of how to communicate with computers; there are only two things that _are_ silly: the first is expecting to be able to run before you can walk; the second is copying and pasting answers without trying to understand _why_ they are answers.\n",
    "\n",
    "Actually, there is a third silly thing: not asking for help. In the same way that learning a new human language is easier if you immerse yourself in the culture and make friends with some native speakers, learning a new computer lanugage is easier if you immerse yourself in the culture of computing and make friends with some more proficient speakers. But just as your French- or Chinese-speaking friends will get tried of answering your questions if you don't make it obvious that you're working _hard_ to learn, most programmers won't be very impressed if you just ask for 'the answer' and then come back two days later with the _same question_.\n",
    "\n",
    "**_您可以学习的最重要的事情是如何以一种可以与计算机通信的方式构建您的问题。_** 至关重要的是，计算机的真正力量不是弄清楚如何告诉它添加`1, 2, 3, 4` 一起计算平均值（平均值），它正在弄清楚如何告诉它把_任何可能的数字集_加在一起并计算平均值。当您开始看到针对一系列 _hard_ 问题（对您而言）执行此操作的方法时，您就知道您已经开始理解该语言了。\n",
    "\n",
    "所以这些笔记本旨在帮助你开始学习一门新语言——一种编程语言——但你应该永远记住这一点：如果你不知道如何向计算机解释事情以便它可以提供帮助，你就不是愚蠢的你找到了答案。您正在学习如何与计算机通信的基础知识；只有两件事_是_愚蠢的：第一是在你能走路之前就期望能跑；第二个是复制和粘贴答案，而不试图理解_为什么_它们是答案。\n",
    "\n",
    "实际上，还有第三件愚蠢的事情：不寻求帮助。就像如果你沉浸在文化中并与一些母语人士交朋友，学习一种新的人类语言会更容易一样，如果你沉浸在计算机文化中并与一些更精通的人交朋友，那么学习一种新的计算机语言会更容易扬声器。但是，就像如果您不表明自己正在努力学习，您的法语或中文朋友会尝试回答您的问题一样，如果您只是要求“回答'，然后两天后带着_相同的问题_回来。"
   ]
  },
  {
   "cell_type": "markdown",
   "metadata": {
    "geopyter": {
     "Contributors": [
      "Michele Ferretti (https://github.com/miccferr)",
      "Jon Reades (https://github.com/jreades)",
      "James Millington (https://github.com/jamesdamillington)",
      "Michele Ferretti (https://github.com/miccferr)",
      "Jon Reades (https://github.com/jreades)",
      "James Millington (https://github.com/jamesdamillington)"
     ],
     "git": {
      "active_branch": "master",
      "author.name": "Jon Reades",
      "authored_date": "2017-06-05 16:12:59",
      "committed_date": "2017-06-05 16:12:59",
      "committer.name": "Jon Reades",
      "sha": "2fce1fab4c3c28acabee493a24302e5ee1e8a1eb"
     }
    }
   },
   "source": [
    "## Mathematics is a Language, so is Code\n",
    "\n",
    "There are obviously many ways that you can calculate the mean (also known as the *average* if your maths is a little rusty): in your head, using pencil and paper, on a calculator, in Excel... and, of course, using code! For a small set of simple numbers, using your brain is going to be a lot faster than typing it into a calculator or computer.\n",
    "\n",
    "In the area immediately below this paragraph you should see something like \"<span style=\"color:blue\">In [ ]</span>\". On the right of this is an empty box into which you can type computer code (which we will call a 'code cell'). We can use Python like a calculator but doing it from a keyboard instead of a calculator's keypad. \n",
    "\n",
    "For example, to calculate 2 plus 2 using Python type `2 + 2` in the code cell and run the code. \n",
    "\n",
    "*HINT*: To run ensure your cursor is in the code cell and click the the 'Run' button in the toolbar above (the sideways-pointing triangle). Or, again with the cursor in the code cell, you can also type Ctrl+Return on the keyboard (that's the Control button and the Return button simultaneously).\n",
    "\n",
    "这里显然有很多方法可以计算平均值（如果你的数学有点生疏，也称为*平均值*）：在你的头脑中，使用铅笔和纸，在计算器上，在 Excel 中......当然还有，使用代码！对于一小组简单的数字，使用大脑将比将其输入计算器或计算机要快得多。\n",
    "\n",
    "在本段正下方的区域中，您应该会看到类似“<span style=\"color:blue\">In [ ]</span>”的内容。在它的右侧是一个空框，您可以在其中键入计算机代码（我们将其称为“代码单元”）。我们可以像计算器一样使用 Python，但可以通过键盘而不是计算器的小键盘来完成。\n",
    "\n",
    "例如，要使用 Python 在代码单元格中键入“2 + 2”并运行代码来计算 2 加 2。\n",
    "\n",
    "*提示*：要运行，请确保您的光标位于代码单元格中，然后单击上方工具栏中的“运行”按钮（侧向三角形）。或者，再次使用代码单元格中的光标，您也可以在键盘上键入 Ctrl+Return（即同时按下 Control 按钮和 Return 按钮）。\n"
   ]
  },
  {
   "cell_type": "code",
   "execution_count": 1,
   "metadata": {},
   "outputs": [
    {
     "data": {
      "text/plain": [
       "418.0"
      ]
     },
     "execution_count": 1,
     "metadata": {},
     "output_type": "execute_result"
    }
   ],
   "source": [
    "(2+2+1250)/3"
   ]
  },
  {
   "cell_type": "markdown",
   "metadata": {},
   "source": [
    "If everything has gone well then you should see something like \"<span style=\"color:red\">Out [ ]</span>\" appear with the answer to the formula `2 + 2`. Hopefully it is `4`!\n",
    "\n",
    "That was an easy one; faster to calculate in our head than use Python. \n",
    "\n",
    "*But quick*, what's the average (mean) of: `1 + 2 + 3 + 4`?\n",
    "\n",
    "A little harder, huh? So type your 'formula' to calculate the mean of `1, 2, 3, 4` then click the 'play' button on the tool bar at the top of the window to run your first piece of Python code! "
   ]
  },
  {
   "cell_type": "code",
   "execution_count": 2,
   "metadata": {
    "geopyter": {
     "Contributors": [
      "Michele Ferretti (https://github.com/miccferr)",
      "Jon Reades (https://github.com/jreades)",
      "James Millington (https://github.com/jamesdamillington)",
      "Michele Ferretti (https://github.com/miccferr)",
      "Jon Reades (https://github.com/jreades)",
      "James Millington (https://github.com/jamesdamillington)"
     ],
     "git": {
      "active_branch": "master",
      "author.name": "Jon Reades",
      "authored_date": "2017-06-05 16:12:59",
      "committed_date": "2017-06-05 16:12:59",
      "committer.name": "Jon Reades",
      "sha": "2fce1fab4c3c28acabee493a24302e5ee1e8a1eb"
     }
    }
   },
   "outputs": [
    {
     "data": {
      "text/plain": [
       "2.5"
      ]
     },
     "execution_count": 2,
     "metadata": {},
     "output_type": "execute_result"
    }
   ],
   "source": [
    "(1+2+3+4)/4"
   ]
  },
  {
   "cell_type": "markdown",
   "metadata": {
    "geopyter": {
     "Contributors": [
      "Michele Ferretti (https://github.com/miccferr)",
      "Jon Reades (https://github.com/jreades)",
      "James Millington (https://github.com/jamesdamillington)",
      "Michele Ferretti (https://github.com/miccferr)",
      "Jon Reades (https://github.com/jreades)",
      "James Millington (https://github.com/jamesdamillington)"
     ],
     "git": {
      "active_branch": "master",
      "author.name": "Jon Reades",
      "authored_date": "2017-06-05 16:12:59",
      "committed_date": "2017-06-05 16:12:59",
      "committer.name": "Jon Reades",
      "sha": "2fce1fab4c3c28acabee493a24302e5ee1e8a1eb"
     }
    },
    "solution2": "hidden",
    "solution2_first": true
   },
   "source": [
    "*HINT*: Your equation should include the four numbers above with some `+` symbols and `(` and `)`, a `/` symbol, and another number.\n",
    "\n",
    "Did you get 2 or 2.5? \n",
    "\n",
    "*HINT*: If you are totally at a loss for what to type in the code cell, just click the \"show solution\" button. \n",
    "\n",
    "Even if you typed the equation incorrectly, you may not have obtained the 'correct' answer (in Python2 the result of `(1+2+3+4)/4` is `2`, whereas in Python3 the result is `2.5`). If you got the 'right' answer (`2.5`) then pat yourself on the back, but be warned that that was mostly luck because Python3 is trying to be helpful. If you got the 'wrong' answer that does **_not_** mean that you have done something wrong: computers do exactly what you tell them to do, and many of the problems you'll encounter in Code Camp and beyond are a result of the computer mindlessly and stupidly doing exactly what you told it to do, and not what you _meant_ for it to do!\n",
    "\n",
    "Or as some swag once put it:\n",
    "\n",
    "> Computers are tools for making very fast, accurate mistakes."
   ]
  },
  {
   "cell_type": "code",
   "execution_count": null,
   "metadata": {
    "solution2": "hidden"
   },
   "outputs": [],
   "source": [
    "(1 + 2 + 3 + 4) / 4 "
   ]
  },
  {
   "cell_type": "markdown",
   "metadata": {
    "solution2": "hidden"
   },
   "source": [
    "If you are using Python version 3 (which you _should_ be), you should have got the result `2.5`\n",
    "\n",
    "If you got the result `2`, you are using Python version 2 and will need to check (and change) your installation of Python (go back to the [Python Setup page](https://kingsgeocomputation.org/teaching/code-camp/code-camp-python/setup/), or try posting a query on Slack for help).  "
   ]
  },
  {
   "cell_type": "markdown",
   "metadata": {
    "geopyter": {
     "Contributors": [
      "Michele Ferretti (https://github.com/miccferr)",
      "Jon Reades (https://github.com/jreades)",
      "James Millington (https://github.com/jamesdamillington)",
      "Michele Ferretti (https://github.com/miccferr)",
      "Jon Reades (https://github.com/jreades)",
      "James Millington (https://github.com/jamesdamillington)"
     ],
     "git": {
      "active_branch": "master",
      "author.name": "Jon Reades",
      "authored_date": "2017-06-05 16:12:59",
      "committed_date": "2017-06-05 16:12:59",
      "committer.name": "Jon Reades",
      "sha": "2fce1fab4c3c28acabee493a24302e5ee1e8a1eb"
     }
    }
   },
   "source": [
    "## Silly is not stupid (learning languages is hard)\n",
    "\n",
    "This is really important: just because you told the computer to do something that you eventually realise was 'wrong' (you may even feel silly) **does _not_ mean that _you_ are stupid**. \n",
    "\n",
    "Did you ever try to learn a foreign language? Did you expect to be fluent after a couple of classes? Did you [accidentally tell your host that you were 'pregnant' when you were just 'embarrassed'](https://translate.google.com/#es/en/embarazada)? Assuming that you had a realistic expectation of how far you'd get with French, Chinese, or English in your first couple of years, then you probably figured it'd be a _while_ before you could hold a conversation with someone else. \n",
    "\n",
    "So why would you expect to sit down at a computer and be able to hold a conversation with it (which is another way of thinking about what coding is) after reading a few pages of text and watching a YouTube video or two? You will need to give it time, you will need to get used to looking at the documentation, you will need to ask for help (this seems like a good time to introduce [Stack Overflow](http://stackoverflow.com/)), and you will need to persevere.\n",
    "\n",
    "这真的很重要：仅仅因为你告诉计算机做一些你最终意识到“错误”的事情（你甚至可能觉得很傻）并不意味着你很傻。你有没有尝试过学习外语？您是否希望在几节课后流利？你是不是在“尴尬”的时候不小心告诉你的主人你“怀孕了”？假设您对在最初几年中使用法语、中文或英语的程度有现实的期望，那么您可能认为还需要一段时间才能与其他人进行对话。那么为什么在阅读几页文字并观看一两个 YouTube 视频后，您是否希望坐在电脑前并能够与它进行对话（这是另一种思考编码是什么的方式）？你需要给它时间，你需要习惯看文档，你需要寻求帮助（这似乎是介绍 Stack Overflow 的好时机），你需要坚持下去。"
   ]
  },
  {
   "cell_type": "markdown",
   "metadata": {
    "geopyter": {
     "Contributors": [
      "Michele Ferretti (https://github.com/miccferr)",
      "Jon Reades (https://github.com/jreades)",
      "James Millington (https://github.com/jamesdamillington)",
      "Michele Ferretti (https://github.com/miccferr)",
      "Jon Reades (https://github.com/jreades)",
      "James Millington (https://github.com/jamesdamillington)"
     ],
     "git": {
      "active_branch": "master",
      "author.name": "Jon Reades",
      "authored_date": "2017-06-05 16:12:59",
      "committed_date": "2017-06-05 16:12:59",
      "committer.name": "Jon Reades",
      "sha": "2fce1fab4c3c28acabee493a24302e5ee1e8a1eb"
     }
    }
   },
   "source": [
    "## Practice makes perfect\n",
    "\n",
    "Your language class (assuming that you took one) probably had a 'lab' where you practised your new language and you probably made a lot of mistakes when you were getting started. It's the same for programming: the reason you got a 'silly' answer is that we haven't taught you how to ask the right question yet! For a language like Python \"`4`\" is not always the same as \"`4.0`\"... and sometimes the way ahead is unclear, but don't worry if you can't get the right answer _yet_, how to 'talk numbers' is the main topic in the _next_ notebook and we'll show you the answer at the end of this notebook.\n",
    "\n",
    "So, we want you to remember that there are no stupid questions when it comes to programming. We have _all_ been lost at one point or another! Your lecturers and instructors _frequently_ still ask for help (often by asking Google!), it's just that we do it for harder questions. And that's only because we have had a lot more practice in the language of programming. So the _only_ silly thing you can do in this course is to assume that you can speed through the questions and don't have to practice or think through the technical aspects of coding. \n",
    "\n",
    "We'll say it _again_: there's _one_ other silly thing that you can do, and that's not asking for help at all. If you've been banging your head against the computer for five or ten minutes trying to get something to work and it *just isn't working* then try explaining it to a friend or the instructor! Depending on the question we might: give you the answer and explain why it's the answer; give you a really annoying _partial_ answer because it's something that we want you to figure out for yourself; or say \"That's a really tough question, we'll have to look up the answer\". You never know until you ask.\n",
    "\n",
    "您的语言课（假设您参加了）可能有一个“实验室”，您可以在其中练习新语言，并且您在开始时可能犯了很多错误。编程也是一样：你得到“愚蠢”答案的原因是我们还没有教你如何提出正确的问题！对于像 Python 这样的语言，“`4`”并不总是与“`4.0`”相同......有时前进的道路还不清楚，但如果你还没有得到正确的答案，请不要担心_如何_ “谈话数字”是_next_笔记本中的主要主题，我们将在本笔记本的末尾向您展示答案。\n",
    "\n",
    "因此，我们希望您记住，在编程方面没有愚蠢的问题。我们_all_在某一时刻迷失了方向！您的讲师和讲师_经常_仍然寻求帮助（通常是通过向 Google 询问！），只是我们会为更难的问题提供帮助。这只是因为我们在编程语言方面有更多的练习。因此，您在本课程中可以做的_唯一_愚蠢的事情是假设您可以快速解决问题，而不必练习或思考编码的技术方面。\n",
    "\n",
    "我们会_再次_说：你可以做_一个_其他愚蠢的事情，而那根本不是寻求帮助。如果你一直在用头撞电脑五到十分钟试图让某些东西工作，但它*不起作用*，然后尝试向朋友或教练解释！根据问题，我们可能会：给你答案并解释为什么是答案；给你一个非常烦人的_部分_答案，因为这是我们希望你自己弄清楚的事情；或者说“这是一个非常棘手的问题，我们必须查找答案”。你永远不知道，直到你问。\n",
    "\n",
    "<img src=\"https://imgs.xkcd.com/comics/tasks.png\" width=\"350\" />\n",
    "\n",
    "There are web sites that will give you answers (in fact, we're going to point you to some of them) but if you don't expend any effort in trying to understand how the code works, or if you just copy the answer off of your friend, that's the same as assuming you'll learn a foreign language just because you're sitting next to a friend who is taking the same language course! _That_ is also silly.\n",
    "\n",
    "<span style=\"color:red;font-weight:bold;font-size:18pt;line-height: 24pt\">You will need to practice in order to progress. You don't learn French or Chinese by practising in the language lab once a week. You won't learn to program a computer by only practising during the practicals once a week.</span>\n",
    "\n",
    "有些网站会给你答案（事实上，我们会向你指出其中的一些），但如果你不花任何精力去理解代码的工作原理，或者你只是复制答案离开你的朋友，这与假设你会学习一门外语是一样的，因为你坐在一个正在学习相同语言课程的朋友旁边！ _那个_也很傻。\n",
    "\n",
    "<span style=\"color:red;font-weight:bold;font-size:18pt;line-height: 24pt\">你需要练习才能进步。每周一次在语言实验室练习是学不会法语或汉语的。你不会通过每周一次的实践练习来学习计算机编程。</span>"
   ]
  },
  {
   "cell_type": "markdown",
   "metadata": {
    "geopyter": {
     "Contributors": [
      "Michele Ferretti (https://github.com/miccferr)",
      "Jon Reades (https://github.com/jreades)",
      "James Millington (https://github.com/jamesdamillington)",
      "Michele Ferretti (https://github.com/miccferr)",
      "Jon Reades (https://github.com/jreades)",
      "James Millington (https://github.com/jamesdamillington)"
     ],
     "git": {
      "active_branch": "master",
      "author.name": "Jon Reades",
      "authored_date": "2017-06-05 16:12:59",
      "committed_date": "2017-06-05 16:12:59",
      "committer.name": "Jon Reades",
      "sha": "2fce1fab4c3c28acabee493a24302e5ee1e8a1eb"
     }
    }
   },
   "source": [
    "### When computers beat brains (or calculators)\n",
    "\n",
    "What makes a computer potentially _better_ than a calculator (or your brain) is that a computer isn't daunted by having to count lots of numbers and it doesn't need you to input each number individually! The computer can also do things like: \n",
    "\n",
    "- find out the amount of rain that fell in London, Manchester, and Edinburgh yesterday from an online weather service;\n",
    "- work out the average rainfall for these three cities; and then \n",
    "- work out the standard deviation for rainfall.\n",
    "\n",
    "And it can do all of this in a matter of milliseconds! It can also do the same for 3,000 cities just as easily; sure, it'll take a little bit longer, but it's the *same basic code*. \n",
    "\n",
    "In other words, code is [scalable](https://en.wikipedia.org/wiki/Scalability) in a way that brains and calculators are not and that is a crucial difference.\n",
    "\n",
    "Here's a trivial example of when computers start to get better and faster than brains:\n",
    "\n",
    "使计算机可能比计算器（或您的大脑）更好的原因在于，计算机不会因必须计算大量数字而感到畏惧，并且不需要您单独输入每个数字！计算机还可以执行以下操作：\n",
    "\n",
    "- 通过在线气象服务了解昨天伦敦、曼彻斯特和爱丁堡的降雨量；\n",
    "- 计算这三个城市的平均降雨量；进而\n",
    "- 计算出降雨量的标准偏差。\n",
    "\n",
    "它可以在几毫秒内完成所有这一切！它还可以轻松地为 3,000 个城市做同样的事情；当然，它需要更长的时间，但它是*相同的基本代码*。\n",
    "\n",
    "换句话说，代码是[可扩展的](https://en.wikipedia.org/wiki/Scalability)，而大脑和计算器则不然，这是一个至关重要的区别。\n",
    "\n",
    "这是一个简单的例子，说明计算机何时开始变得比大脑更好更快："
   ]
  },
  {
   "cell_type": "code",
   "execution_count": 3,
   "metadata": {
    "geopyter": {
     "Contributors": [
      "Michele Ferretti (https://github.com/miccferr)",
      "Jon Reades (https://github.com/jreades)",
      "James Millington (https://github.com/jamesdamillington)",
      "Michele Ferretti (https://github.com/miccferr)",
      "Jon Reades (https://github.com/jreades)",
      "James Millington (https://github.com/jamesdamillington)"
     ],
     "git": {
      "active_branch": "master",
      "author.name": "Jon Reades",
      "authored_date": "2017-06-05 16:12:59",
      "committed_date": "2017-06-05 16:12:59",
      "committer.name": "Jon Reades",
      "sha": "2fce1fab4c3c28acabee493a24302e5ee1e8a1eb"
     }
    }
   },
   "outputs": [
    {
     "data": {
      "text/plain": [
       "2318812.72175"
      ]
     },
     "execution_count": 3,
     "metadata": {},
     "output_type": "execute_result"
    }
   ],
   "source": [
    "(23495.23 + 9238832.657 + 2 + 12921)/4"
   ]
  },
  {
   "cell_type": "markdown",
   "metadata": {},
   "source": [
    "*Remember*: click in the cell and then hit `Ctrl+Enter` to 'run' the cell and get the answer."
   ]
  },
  {
   "cell_type": "markdown",
   "metadata": {
    "geopyter": {
     "Contributors": [
      "Michele Ferretti (https://github.com/miccferr)",
      "Jon Reades (https://github.com/jreades)",
      "James Millington (https://github.com/jamesdamillington)",
      "Michele Ferretti (https://github.com/miccferr)",
      "Jon Reades (https://github.com/jreades)",
      "James Millington (https://github.com/jamesdamillington)"
     ],
     "git": {
      "active_branch": "master",
      "author.name": "Jon Reades",
      "authored_date": "2017-06-05 16:12:59",
      "committed_date": "2017-06-05 16:12:59",
      "committer.name": "Jon Reades",
      "sha": "2fce1fab4c3c28acabee493a24302e5ee1e8a1eb"
     }
    }
   },
   "source": [
    "# Programming in Python\n",
    "\n"
   ]
  },
  {
   "cell_type": "markdown",
   "metadata": {
    "geopyter": {
     "Contributors": [
      "Michele Ferretti (https://github.com/miccferr)",
      "Jon Reades (https://github.com/jreades)",
      "James Millington (https://github.com/jamesdamillington)",
      "Michele Ferretti (https://github.com/miccferr)",
      "Jon Reades (https://github.com/jreades)",
      "James Millington (https://github.com/jamesdamillington)"
     ],
     "git": {
      "active_branch": "master",
      "author.name": "Jon Reades",
      "authored_date": "2017-06-05 16:12:59",
      "committed_date": "2017-06-05 16:12:59",
      "committer.name": "Jon Reades",
      "sha": "2fce1fab4c3c28acabee493a24302e5ee1e8a1eb"
     }
    }
   },
   "source": [
    "## Computer Languages\n",
    "\n",
    "In these notebooks we will be using the Python programming language. As with human languages, there are _many_ [programming languages](http://www.computerhope.com/jargon/p/proglang.htm) in the world, each with their own advantages and disadvantages, and each with their own vocabulary (allowed words) and grammar (syntax). We use Python. "
   ]
  },
  {
   "cell_type": "markdown",
   "metadata": {
    "geopyter": {
     "Contributors": [
      "Michele Ferretti (https://github.com/miccferr)",
      "Jon Reades (https://github.com/jreades)",
      "James Millington (https://github.com/jamesdamillington)",
      "Michele Ferretti (https://github.com/miccferr)",
      "Jon Reades (https://github.com/jreades)",
      "James Millington (https://github.com/jamesdamillington)"
     ],
     "git": {
      "active_branch": "master",
      "author.name": "Jon Reades",
      "authored_date": "2017-06-05 16:12:59",
      "committed_date": "2017-06-05 16:12:59",
      "committer.name": "Jon Reades",
      "sha": "2fce1fab4c3c28acabee493a24302e5ee1e8a1eb"
     }
    }
   },
   "source": [
    "### Python vs R\n",
    "\n",
    "Alongside Python, the other language that is often mentioned by people doing data-led research is [R](https://www.r-project.org). It's the _other_ one that many of your lecturers and a lot of other scientists use in a lot of their work.  There's [a great deal of debate about the relative merits of Python and R](https://www.quora.com/Which-is-better-for-data-analysis-R-or-Python), but for our purposes, _both_ Python and R can help us to undertake the geographical analysis. That is, in fact, the premise前提 of this entire course! \n",
    "\n",
    "So why have we chosen to use Python here? Of the two languages, we think that Python has some specific advantages:\n",
    "\n",
    "1. It was designed for teaching, so its syntax is easier for a human to 'parse' than R's\n",
    "2. It is more _like_ other languages, so it is more readily transferrable if you need to learn another language. Think of it as learning Italian, which also makes it easier to learn Spanish and French.\n",
    "3. It is the one most-used as part of a *geographical workflow* – what we mean by this is that you can find Python buried inside of ESRI's ArcGIS and the open-source QGIS applications, and it also sits behind (or talks to) a number of other tools that allow us to work flexibly and scalably with geo-data. \n",
    "4. It is easier to operationalise – Python offers more services/tools to enable you to turn something from a 'hack' ([which doesn't mean what you think it means](https://en.wikipedia.org/wiki/Hacks_at_the_Massachusetts_Institute_of_Technology) into a 'service'.\n",
    "\n",
    "\n",
    "1. 它是为教学而设计的，因此它的语法比 R 的语法更容易被人类“解析”\n",
    "2. 它更像其他语言，所以如果你需要学习另一种语言，它更容易转移。将其视为学习意大利语，这也使学习西班牙语和法语变得更容易。\n",
    "3. 它是*地理工作流*中最常用的一个——我们的意思是，你可以找到隐藏在 ESRI 的 ArcGIS 和开源 QGIS 应用程序中的 Python，它也位于后面（或谈论到）许多其他工具，使我们能够灵活且可扩展地处理地理数据。\n",
    "4. 更容易操作——Python 提供了更多的服务/工具，使你能够从“黑客”（[这并不意味着你认为它意味着什么]（https://en.wikipedia.org/wiki） /Hacks_at_the_Massachusetts_Institute_of_Technology) 变成“服务”。\n",
    "\n",
    "However, if you have been told R is the way to go then don't worry, the concepts covered here still translate. And many of the contributors to these notebooks use both languages... it just depends on the problem. "
   ]
  },
  {
   "cell_type": "markdown",
   "metadata": {
    "geopyter": {
     "Contributors": [
      "Michele Ferretti (https://github.com/miccferr)",
      "Jon Reades (https://github.com/jreades)",
      "James Millington (https://github.com/jamesdamillington)",
      "Michele Ferretti (https://github.com/miccferr)",
      "Jon Reades (https://github.com/jreades)",
      "James Millington (https://github.com/jamesdamillington)"
     ],
     "git": {
      "active_branch": "master",
      "author.name": "Jon Reades",
      "authored_date": "2017-06-05 16:12:59",
      "committed_date": "2017-06-05 16:12:59",
      "committer.name": "Jon Reades",
      "sha": "2fce1fab4c3c28acabee493a24302e5ee1e8a1eb"
     }
    }
   },
   "source": [
    "### Python what?\n",
    "Python was invented by [Guido van Rossum](https://en.wikipedia.org/wiki/Guido_van_Rossum) in the late 1980s and he continues in the role of 'benevolent dictator' to this day, which means that he (and some other very smart people) try to ensure that the language continues to meet the basic goals of:\n",
    "* Being very easy to read (syntax)\n",
    "* Using plain-English for many functions and operators (allowed words)\n",
    "* Has a comprehensive style guide: [PEP8](https://www.python.org/dev/peps/pep-0008/) (syntax)\n",
    "* Has no unnecessary special formatting characters (syntax _and_ allowed words)\n",
    "\n",
    "So while Python is not a language that enables the computer to make calculations the fastest (C and C++ are faster), nor is it the safest (you wouldn't use it to fly a rocket to Mars), it _is_ a very readable, learnable and maintainable language.\n",
    "\n",
    "So if you want to learn to code, to do 'data science', or build a business, Python is a great choice.\n",
    "\n",
    "The points above are also made in [Python In A Nutshell](http://mbrochh.github.io/python-101/#/6/1) by [Martin Brochhaus](https://github.com/mbrochh) which you may find interesting and useful to accompany your learning of Python.\n",
    "\n",
    "Python 是 [Guido van Rossum](https://en.wikipedia.org/wiki/Guido_van_Rossum) 在 1980 年代后期发明的，他一直扮演“仁慈的独裁者”的角色直到今天，这意味着他（和一些其他非常聪明的人）尝试确保语言继续满足以下基本目标：\n",
    "* 非常容易阅读（语法）\n",
    "* 对许多函数和运算符使用纯英语（允许的单词）\n",
    "* 有全面的风格指南：[PEP8](https://www.python.org/dev/peps/pep-0008/)（语法）\n",
    "* 没有不必要的特殊格式字符（语法 _and_ 允许的单词）\n",
    "\n",
    "因此，虽然 Python 不是一种能让计算机进行最快计算的语言（C 和 C++ 更快），也不是最安全的（你不会用它来将火箭飞向火星），但它_是_一种非常易读的语言，可学习和可维护的语言。\n",
    "\n",
    "因此，如果您想学习编码、从事“数据科学”或开展业务，Python 是一个不错的选择。\n",
    "\n",
    "上述观点也在 [Python In A Nutshell](http://mbrochh.github.io/python-101/#/6/1) [Martin Brochhaus](https://github.com/mbrochh) 中提出在学习 Python 时，您可能会发现它有趣且有用。"
   ]
  },
  {
   "cell_type": "markdown",
   "metadata": {
    "geopyter": {
     "Contributors": [
      "Michele Ferretti (https://github.com/miccferr)",
      "Jon Reades (https://github.com/jreades)",
      "James Millington (https://github.com/jamesdamillington)",
      "Michele Ferretti (https://github.com/miccferr)",
      "Jon Reades (https://github.com/jreades)",
      "James Millington (https://github.com/jamesdamillington)"
     ],
     "git": {
      "active_branch": "master",
      "author.name": "Jon Reades",
      "authored_date": "2017-06-05 16:12:59",
      "committed_date": "2017-06-05 16:12:59",
      "committer.name": "Jon Reades",
      "sha": "2fce1fab4c3c28acabee493a24302e5ee1e8a1eb"
     }
    }
   },
   "source": [
    "#### Three takes on Python\n",
    "The images below are links to three videos pitched in quite different ways at the advantages of Python, all of which touch on issues we'll be dealing with later... so watch the videos (even if they're a bit silly in places)!\n",
    "\n",
    "下面的图片是三个视频的链接，这些视频以完全不同的方式展示了 Python 的优势，所有这些都涉及我们稍后将要处理的问题......所以观看视频（即使它们在某些地方有点傻）！\n",
    "\n",
    "[![IMAGE ALT TEXT HERE](http://img.youtube.com/vi/aXKVOLwpDg8/0.jpg)](http://www.youtube.com/watch?v=aXKVOLwpDg8)\n",
    "\n",
    "[![IMAGE ALT TEXT HERE](http://img.youtube.com/vi/Hn4FbT4wMms/0.jpg)](http://www.youtube.com/watch?v=Hn4FbT4wMms)\n",
    "\n",
    "[![IMAGE ALT TEXT HERE](http://img.youtube.com/vi/G8brQdClo9s/0.jpg)](http://www.youtube.com/watch?v=G8brQdClo9s)"
   ]
  },
  {
   "cell_type": "markdown",
   "metadata": {},
   "source": [
    "## Computers: good or bad?\n",
    "\n",
    "What are computers good at?\n",
    "- Doing the same thing over and over\n",
    "- Doing _exactly_ what they are told to do\n",
    "\n",
    "What are computers currently still bad at?\n",
    "- Generating knowledge\n",
    "- Being creative\n",
    "\n",
    "There is a long-standing contest, called the Turing Test in honour of [the famous computer pioneer](https://en.wikipedia.org/wiki/Alan_Turing), that demonstrates this difference rather nicely: a computer passes the Turing test if it can fool a person into thinking that they're talking to another person. Some people have claimed that if a computer can _really_ pass the Turing Test by keeping up a conversation of indefinite length on any range of topics then we'll have to declare that machines have become full AIs (Artificial Intelligences). To put it another way: if it sounds like a human and responds like a human... then is it a human?\n",
    "\n",
    "Perhaps fortunately for us, although computers are getting a lot better at holding up their end of the conversation they still seem to have a hard time fooling anyone for very long. In contrast, bigger and better computers have now beat the best humans at Chess and Go, and are being used to help us understand earthquakes and climate change on a huge scale. Here, computers can do billions -- or trillions -- of calculations a second to work out that if 'A' happens then 'B' is the next most likely thing to happen, and so on and so on.\n",
    "\n",
    "The difference is that games like Go and Chess have well-understood rules as (ultimately) do natural processes like climate change and earthquakes. Chess is 'easier' for a computer than Go because a big enough computer can work out every possible chess move and pick the best one, whereas it can't do that for Go and so has to make 'choices' based on incomplete information. Earthquakes have even more 'rules', but as far we know they still follow _some_ set of rules dictated by physics and chemistry. \n",
    "\n",
    "People, however, don't use the same unchanging rules in conversation. Yes, conversations have norms, unless you're using an online comment forum where it's normal to start a conversation by asking someone if they're an idiot, but people don't just 'play games' within the rules, they actually play with the rules themselves in a way that computers find very, very hard to follow. Think of sarcasm: you say one thing but it means exactly the opposite. And if it's delivered deadpan then sometimes even people have trouble knowing if you're being sincere!\n",
    "\n",
    "That's why AI of the sort you might have seen in _2001_ or _Blade Runner_ has been twenty years away for the last sixty years! Recently, computers have been getting better and better at doing really difficult things, but it's usually still in a narrow area where we understand the rules and we normally need to spend a lot of time training the computer. \n",
    "\n",
    "有一个长期存在的竞赛，称为图灵测试，以纪念[著名的计算机先驱](https://en.wikipedia.org/wiki/Alan_Turing)，它很好地证明了这种差异：计算机通过了图灵测试如果它可以愚弄一个人以为他们正在与另一个人交谈。有些人声称，如果计算机可以通过就任何主题进行无限长的对话来_真正地_通过图灵测试，那么我们将不得不宣布机器已经成为完全的 AI（人工智能）。换句话说：如果它听起来像人，反应也像人……那么它是人吗？\n",
    "\n",
    "也许对我们来说幸运的是，尽管计算机在阻止对话结束方面变得越来越好，但它们似乎仍然很难欺骗任何人很长时间。相比之下，更大更好的计算机现在已经在国际象棋和围棋中击败了最优秀的人类，并被用于帮助我们大规模了解地震和气候变化。在这里，计算机每秒可以进行数十亿或数万亿次计算，以确定如果“A”发生，那么“B”是下一个最有可能发生的事情，依此类推。\n",
    "\n",
    "不同之处在于围棋和国际象棋之类的游戏具有易于理解的规则，就像（最终）自然过程（如气候变化和地震）一样。国际象棋对计算机来说比围棋“更容易”，因为足够大的计算机可以计算出每一个可能的棋步并选择最好的棋步，而围棋不能这样做，因此必须根据不完整的信息做出“选择”。地震有更多的“规则”，但据我们所知，它们仍然遵循物理和化学规定的_一些_规则集。\n",
    "\n",
    "然而，人们在谈话中不会使用相同的不变规则。是的，对话是有规范的，除非你使用在线评论论坛，在那里通过询问某人是否是白痴来开始对话是正常的，但人们不只是在规则内“玩游戏”，他们实际上玩计算机发现非常非常难以遵循的规则本身。想想讽刺：你说的是一件事，但意思恰恰相反。如果它是面无表情的，那么有时甚至人们也很难知道你是否真诚！\n",
    "\n",
    "这就是为什么你可能在_2001_ 或_银翼杀手_ 中看到的那种人工智能在过去的 60 年里已经过去了 20 年！最近，计算机在做真正困难的事情方面越来越好，但它通常仍然处于我们理解规则的狭窄领域，我们通常需要花费大量时间来训练计算机。\n",
    "\n",
    "#### More About the Turing Test\n",
    "Turing, A (1950), _Computing Machinery and Intelligence, Mind_ LIX (236): 433–460\n",
    "doi: [10.1093/mind/LIX.236.433](http://dx.doi.org/10.1093/mind/LIX.236.433), ISSN 0026-4423"
   ]
  },
  {
   "cell_type": "markdown",
   "metadata": {
    "geopyter": {
     "Contributors": "Jon Reades (https://github.com/jreades)",
     "git": {
      "active_branch": "master",
      "author.name": "Jon Reades",
      "authored_date": "2017-06-05 16:12:59",
      "committed_date": "2017-06-05 16:12:59",
      "committer.name": "Jon Reades",
      "sha": "2fce1fab4c3c28acabee493a24302e5ee1e8a1eb"
     }
    }
   },
   "source": [
    "## Further Reading:\n",
    "\n",
    "- A **must** read: [The Hard Way is Easier](http://learnpythonthehardway.org/book/intro.html)\n",
    "- Two easy and accessible videos to start wrapping your head around programming (although they are not Python-centric) [1](https://www.youtube.com/watch?v=qUVWM2Q4vAU) and [2](https://www.youtube.com/watch?v=AImF__7FyzM)"
   ]
  },
  {
   "cell_type": "markdown",
   "metadata": {},
   "source": [
    "### Credits!\n",
    "\n",
    "#### Contributors:\n",
    "The following individuals have contributed to these teaching materials: \n",
    "- [James Millington](https://github.com/jamesdamillington)\n",
    "- [Jon Reades](https://github.com/jreades)\n",
    "- [Michele Ferretti](https://github.com/miccferr)\n",
    "- [Zahratu Shabrina](https://github.com/zarashabrina)\n",
    "\n",
    "#### License\n",
    "The content and structure of this teaching project itself is licensed under the [Creative Commons Attribution-NonCommercial-ShareAlike 4.0 license](https://creativecommons.org/licenses/by-nc-sa/4.0/), and the contributing source code is licensed under [The MIT License](https://opensource.org/licenses/mit-license.php).\n",
    "\n",
    "#### Acknowledgements:\n",
    "Supported by the [Royal Geographical Society](https://www.rgs.org/HomePage.htm) (with the Institute of British Geographers) with a Ray Y Gildea Jr Award.\n",
    "\n",
    "#### Potential Dependencies:\n",
    "This notebook may depend on the following libraries: None"
   ]
  }
 ],
 "metadata": {
  "anaconda-cloud": {},
  "geopyter": {
   "Contributors": [
    "Michele Ferretti (https://github.com/miccferr)",
    "Jon Reades (https://github.com/jreades)",
    "James Millington (https://github.com/jamesdamillington)"
   ],
   "git": {
    "active_branch": "master",
    "author.name": "Jon Reades",
    "authored_date": "2017-06-05 16:12:59",
    "committed_date": "2017-06-05 16:12:59",
    "committer.name": "Jon Reades",
    "sha": "2fce1fab4c3c28acabee493a24302e5ee1e8a1eb"
   },
   "libs": {}
  },
  "kernelspec": {
   "display_name": "Python 3",
   "language": "python",
   "name": "python3"
  },
  "language_info": {
   "codemirror_mode": {
    "name": "ipython",
    "version": 3
   },
   "file_extension": ".py",
   "mimetype": "text/x-python",
   "name": "python",
   "nbconvert_exporter": "python",
   "pygments_lexer": "ipython3",
   "version": "3.7.10"
  }
 },
 "nbformat": 4,
 "nbformat_minor": 4
}
